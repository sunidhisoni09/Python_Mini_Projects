{
 "cells": [
  {
   "cell_type": "markdown",
   "id": "d686472b",
   "metadata": {},
   "source": [
    "# CountDown Timer"
   ]
  },
  {
   "cell_type": "code",
   "execution_count": 1,
   "id": "b9c877f0",
   "metadata": {},
   "outputs": [
    {
     "name": "stdout",
     "output_type": "stream",
     "text": [
      "Enter the time in seconds: 10\n",
      "00:10\n",
      "00:09\n",
      "00:08\n",
      "00:07\n",
      "00:06\n",
      "00:05\n",
      "00:04\n",
      "00:03\n",
      "00:02\n",
      "00:01\n",
      "Time's Up!!\n"
     ]
    }
   ],
   "source": [
    "#import the time module\n",
    "import time\n",
    "\n",
    "#input the time in seconds\n",
    "t = int(input(\"Enter the time in seconds: \"))\n",
    "while t > 0:\n",
    "       mins = t // 60\n",
    "       secs = t % 60\n",
    "       timer = '{:02d}:{:02d}'.format(mins, secs)\n",
    "       print(timer)\n",
    "       #it is used to make the code wait for one sec \n",
    "       time.sleep(1)\n",
    "       t -= 1\n",
    "print(\"Time's Up!!\")\n"
   ]
  },
  {
   "cell_type": "markdown",
   "id": "34aa9b10",
   "metadata": {},
   "source": [
    "# Random Word from Text File"
   ]
  },
  {
   "cell_type": "code",
   "execution_count": 2,
   "id": "7dea6b00",
   "metadata": {},
   "outputs": [
    {
     "name": "stdout",
     "output_type": "stream",
     "text": [
      "Random Position: 3\n",
      "Word at that Random position: interpreted,\n"
     ]
    }
   ],
   "source": [
    "# using randint()\n",
    "import random\n",
    "\n",
    "# open file\n",
    "path = r\"C:\\Users\\Saloni\\Downloads\\Python.txt\"\n",
    "\n",
    "#Note : Give correct path of file from your local drive.\n",
    "\n",
    "with open(path, \"r\") as file:\n",
    "    data = file.read()\n",
    "    words = data.split()\n",
    "\n",
    "    # Generating a random number for word position\n",
    "    word_pos = random.randint(0, len(words) - 1)\n",
    "    print(\"Random Position:\", word_pos)\n",
    "    print(\"Word at that Random position:\", words[word_pos])\n"
   ]
  }
 ],
 "metadata": {
  "kernelspec": {
   "display_name": "Python 3 (ipykernel)",
   "language": "python",
   "name": "python3"
  },
  "language_info": {
   "codemirror_mode": {
    "name": "ipython",
    "version": 3
   },
   "file_extension": ".py",
   "mimetype": "text/x-python",
   "name": "python",
   "nbconvert_exporter": "python",
   "pygments_lexer": "ipython3",
   "version": "3.9.7"
  }
 },
 "nbformat": 4,
 "nbformat_minor": 5
}
